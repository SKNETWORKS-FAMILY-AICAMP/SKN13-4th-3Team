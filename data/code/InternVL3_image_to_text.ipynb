{
 "cells": [
  {
   "cell_type": "code",
   "execution_count": 1,
   "id": "fb35e1c4-4566-4e89-b386-fed09d4150f8",
   "metadata": {
    "collapsed": true,
    "jupyter": {
     "outputs_hidden": true
    }
   },
   "outputs": [
    {
     "name": "stdout",
     "output_type": "stream",
     "text": [
      "Collecting transformers\n",
      "  Downloading transformers-4.53.2-py3-none-any.whl.metadata (40 kB)\n",
      "Collecting accelerate\n",
      "  Downloading accelerate-1.9.0-py3-none-any.whl.metadata (19 kB)\n",
      "Collecting timm\n",
      "  Downloading timm-1.0.17-py3-none-any.whl.metadata (59 kB)\n",
      "Requirement already satisfied: pillow in /usr/local/lib/python3.11/dist-packages (11.0.0)\n",
      "Requirement already satisfied: filelock in /usr/local/lib/python3.11/dist-packages (from transformers) (3.16.1)\n",
      "Collecting huggingface-hub<1.0,>=0.30.0 (from transformers)\n",
      "  Downloading huggingface_hub-0.33.4-py3-none-any.whl.metadata (14 kB)\n",
      "Requirement already satisfied: numpy>=1.17 in /usr/local/lib/python3.11/dist-packages (from transformers) (2.1.2)\n",
      "Requirement already satisfied: packaging>=20.0 in /usr/local/lib/python3.11/dist-packages (from transformers) (24.2)\n",
      "Requirement already satisfied: pyyaml>=5.1 in /usr/local/lib/python3.11/dist-packages (from transformers) (6.0.2)\n",
      "Collecting regex!=2019.12.17 (from transformers)\n",
      "  Downloading regex-2024.11.6-cp311-cp311-manylinux_2_17_x86_64.manylinux2014_x86_64.whl.metadata (40 kB)\n",
      "Requirement already satisfied: requests in /usr/local/lib/python3.11/dist-packages (from transformers) (2.32.3)\n",
      "Collecting tokenizers<0.22,>=0.21 (from transformers)\n",
      "  Downloading tokenizers-0.21.2-cp39-abi3-manylinux_2_17_x86_64.manylinux2014_x86_64.whl.metadata (6.8 kB)\n",
      "Collecting safetensors>=0.4.3 (from transformers)\n",
      "  Downloading safetensors-0.5.3-cp38-abi3-manylinux_2_17_x86_64.manylinux2014_x86_64.whl.metadata (3.8 kB)\n",
      "Collecting tqdm>=4.27 (from transformers)\n",
      "  Downloading tqdm-4.67.1-py3-none-any.whl.metadata (57 kB)\n",
      "Requirement already satisfied: psutil in /usr/local/lib/python3.11/dist-packages (from accelerate) (7.0.0)\n",
      "Requirement already satisfied: torch>=2.0.0 in /usr/local/lib/python3.11/dist-packages (from accelerate) (2.8.0.dev20250319+cu128)\n",
      "Requirement already satisfied: torchvision in /usr/local/lib/python3.11/dist-packages (from timm) (0.22.0.dev20250319+cu128)\n",
      "Requirement already satisfied: fsspec>=2023.5.0 in /usr/local/lib/python3.11/dist-packages (from huggingface-hub<1.0,>=0.30.0->transformers) (2024.10.0)\n",
      "Requirement already satisfied: typing-extensions>=3.7.4.3 in /usr/local/lib/python3.11/dist-packages (from huggingface-hub<1.0,>=0.30.0->transformers) (4.12.2)\n",
      "Collecting hf-xet<2.0.0,>=1.1.2 (from huggingface-hub<1.0,>=0.30.0->transformers)\n",
      "  Downloading hf_xet-1.1.5-cp37-abi3-manylinux_2_17_x86_64.manylinux2014_x86_64.whl.metadata (879 bytes)\n",
      "Requirement already satisfied: sympy>=1.13.3 in /usr/local/lib/python3.11/dist-packages (from torch>=2.0.0->accelerate) (1.13.3)\n",
      "Requirement already satisfied: networkx in /usr/local/lib/python3.11/dist-packages (from torch>=2.0.0->accelerate) (3.4.2)\n",
      "Requirement already satisfied: jinja2 in /usr/local/lib/python3.11/dist-packages (from torch>=2.0.0->accelerate) (3.1.4)\n",
      "Requirement already satisfied: nvidia-cuda-nvrtc-cu12==12.8.61 in /usr/local/lib/python3.11/dist-packages (from torch>=2.0.0->accelerate) (12.8.61)\n",
      "Requirement already satisfied: nvidia-cuda-runtime-cu12==12.8.57 in /usr/local/lib/python3.11/dist-packages (from torch>=2.0.0->accelerate) (12.8.57)\n",
      "Requirement already satisfied: nvidia-cuda-cupti-cu12==12.8.57 in /usr/local/lib/python3.11/dist-packages (from torch>=2.0.0->accelerate) (12.8.57)\n",
      "Requirement already satisfied: nvidia-cudnn-cu12==9.8.0.87 in /usr/local/lib/python3.11/dist-packages (from torch>=2.0.0->accelerate) (9.8.0.87)\n",
      "Requirement already satisfied: nvidia-cublas-cu12==12.8.3.14 in /usr/local/lib/python3.11/dist-packages (from torch>=2.0.0->accelerate) (12.8.3.14)\n",
      "Requirement already satisfied: nvidia-cufft-cu12==11.3.3.41 in /usr/local/lib/python3.11/dist-packages (from torch>=2.0.0->accelerate) (11.3.3.41)\n",
      "Requirement already satisfied: nvidia-curand-cu12==10.3.9.55 in /usr/local/lib/python3.11/dist-packages (from torch>=2.0.0->accelerate) (10.3.9.55)\n",
      "Requirement already satisfied: nvidia-cusolver-cu12==11.7.2.55 in /usr/local/lib/python3.11/dist-packages (from torch>=2.0.0->accelerate) (11.7.2.55)\n",
      "Requirement already satisfied: nvidia-cusparse-cu12==12.5.7.53 in /usr/local/lib/python3.11/dist-packages (from torch>=2.0.0->accelerate) (12.5.7.53)\n",
      "Requirement already satisfied: nvidia-cusparselt-cu12==0.6.3 in /usr/local/lib/python3.11/dist-packages (from torch>=2.0.0->accelerate) (0.6.3)\n",
      "Requirement already satisfied: nvidia-nccl-cu12==2.25.1 in /usr/local/lib/python3.11/dist-packages (from torch>=2.0.0->accelerate) (2.25.1)\n",
      "Requirement already satisfied: nvidia-nvtx-cu12==12.8.55 in /usr/local/lib/python3.11/dist-packages (from torch>=2.0.0->accelerate) (12.8.55)\n",
      "Requirement already satisfied: nvidia-nvjitlink-cu12==12.8.61 in /usr/local/lib/python3.11/dist-packages (from torch>=2.0.0->accelerate) (12.8.61)\n",
      "Requirement already satisfied: nvidia-cufile-cu12==1.13.0.11 in /usr/local/lib/python3.11/dist-packages (from torch>=2.0.0->accelerate) (1.13.0.11)\n",
      "Requirement already satisfied: pytorch-triton==3.3.0+git96316ce5 in /usr/local/lib/python3.11/dist-packages (from torch>=2.0.0->accelerate) (3.3.0+git96316ce5)\n",
      "Requirement already satisfied: setuptools>=40.8.0 in /usr/local/lib/python3.11/dist-packages (from pytorch-triton==3.3.0+git96316ce5->torch>=2.0.0->accelerate) (77.0.1)\n",
      "Requirement already satisfied: charset-normalizer<4,>=2 in /usr/local/lib/python3.11/dist-packages (from requests->transformers) (3.4.1)\n",
      "Requirement already satisfied: idna<4,>=2.5 in /usr/local/lib/python3.11/dist-packages (from requests->transformers) (3.10)\n",
      "Requirement already satisfied: urllib3<3,>=1.21.1 in /usr/local/lib/python3.11/dist-packages (from requests->transformers) (2.3.0)\n",
      "Requirement already satisfied: certifi>=2017.4.17 in /usr/local/lib/python3.11/dist-packages (from requests->transformers) (2025.1.31)\n",
      "Requirement already satisfied: mpmath<1.4,>=1.1.0 in /usr/local/lib/python3.11/dist-packages (from sympy>=1.13.3->torch>=2.0.0->accelerate) (1.3.0)\n",
      "Requirement already satisfied: MarkupSafe>=2.0 in /usr/local/lib/python3.11/dist-packages (from jinja2->torch>=2.0.0->accelerate) (2.1.5)\n",
      "Downloading transformers-4.53.2-py3-none-any.whl (10.8 MB)\n",
      "\u001b[2K   \u001b[90m━━━━━━━━━━━━━━━━━━━━━━━━━━━━━━━━━━━━━━━━\u001b[0m \u001b[32m10.8/10.8 MB\u001b[0m \u001b[31m316.3 MB/s\u001b[0m eta \u001b[36m0:00:00\u001b[0m\n",
      "\u001b[?25hDownloading accelerate-1.9.0-py3-none-any.whl (367 kB)\n",
      "Downloading timm-1.0.17-py3-none-any.whl (2.5 MB)\n",
      "\u001b[2K   \u001b[90m━━━━━━━━━━━━━━━━━━━━━━━━━━━━━━━━━━━━━━━━\u001b[0m \u001b[32m2.5/2.5 MB\u001b[0m \u001b[31m295.3 MB/s\u001b[0m eta \u001b[36m0:00:00\u001b[0m\n",
      "\u001b[?25hDownloading huggingface_hub-0.33.4-py3-none-any.whl (515 kB)\n",
      "Downloading regex-2024.11.6-cp311-cp311-manylinux_2_17_x86_64.manylinux2014_x86_64.whl (792 kB)\n",
      "\u001b[2K   \u001b[90m━━━━━━━━━━━━━━━━━━━━━━━━━━━━━━━━━━━━━━━\u001b[0m \u001b[32m792.7/792.7 kB\u001b[0m \u001b[31m255.1 MB/s\u001b[0m eta \u001b[36m0:00:00\u001b[0m\n",
      "\u001b[?25hDownloading safetensors-0.5.3-cp38-abi3-manylinux_2_17_x86_64.manylinux2014_x86_64.whl (471 kB)\n",
      "Downloading tokenizers-0.21.2-cp39-abi3-manylinux_2_17_x86_64.manylinux2014_x86_64.whl (3.1 MB)\n",
      "\u001b[2K   \u001b[90m━━━━━━━━━━━━━━━━━━━━━━━━━━━━━━━━━━━━━━━━\u001b[0m \u001b[32m3.1/3.1 MB\u001b[0m \u001b[31m453.0 MB/s\u001b[0m eta \u001b[36m0:00:00\u001b[0m\n",
      "\u001b[?25hDownloading tqdm-4.67.1-py3-none-any.whl (78 kB)\n",
      "Downloading hf_xet-1.1.5-cp37-abi3-manylinux_2_17_x86_64.manylinux2014_x86_64.whl (3.1 MB)\n",
      "\u001b[2K   \u001b[90m━━━━━━━━━━━━━━━━━━━━━━━━━━━━━━━━━━━━━━━━\u001b[0m \u001b[32m3.1/3.1 MB\u001b[0m \u001b[31m254.7 MB/s\u001b[0m eta \u001b[36m0:00:00\u001b[0m\n",
      "\u001b[?25hInstalling collected packages: tqdm, safetensors, regex, hf-xet, huggingface-hub, tokenizers, transformers, accelerate, timm\n",
      "Successfully installed accelerate-1.9.0 hf-xet-1.1.5 huggingface-hub-0.33.4 regex-2024.11.6 safetensors-0.5.3 timm-1.0.17 tokenizers-0.21.2 tqdm-4.67.1 transformers-4.53.2\n",
      "\u001b[33mWARNING: Running pip as the 'root' user can result in broken permissions and conflicting behaviour with the system package manager, possibly rendering your system unusable. It is recommended to use a virtual environment instead: https://pip.pypa.io/warnings/venv. Use the --root-user-action option if you know what you are doing and want to suppress this warning.\u001b[0m\u001b[33m\n",
      "\u001b[0m\n",
      "\u001b[1m[\u001b[0m\u001b[34;49mnotice\u001b[0m\u001b[1;39;49m]\u001b[0m\u001b[39;49m A new release of pip is available: \u001b[0m\u001b[31;49m25.0.1\u001b[0m\u001b[39;49m -> \u001b[0m\u001b[32;49m25.1.1\u001b[0m\n",
      "\u001b[1m[\u001b[0m\u001b[34;49mnotice\u001b[0m\u001b[1;39;49m]\u001b[0m\u001b[39;49m To update, run: \u001b[0m\u001b[32;49mpython -m pip install --upgrade pip\u001b[0m\n",
      "Note: you may need to restart the kernel to use updated packages.\n"
     ]
    }
   ],
   "source": [
    "# 1. 라이브러리 설치\n",
    "%pip install transformers accelerate timm pillow"
   ]
  },
  {
   "cell_type": "code",
   "execution_count": 2,
   "id": "acbf35f1-6f7b-486d-9846-68ac3b71c601",
   "metadata": {},
   "outputs": [],
   "source": [
    "# 2. 라이브러리 import\n",
    "import torch\n",
    "from transformers import AutoProcessor, InternVLForConditionalGeneration\n",
    "from PIL import Image"
   ]
  },
  {
   "cell_type": "code",
   "execution_count": 3,
   "id": "a5084a8b-62a5-4edf-8996-7e2188c06a2e",
   "metadata": {},
   "outputs": [
    {
     "name": "stdout",
     "output_type": "stream",
     "text": [
      "디바이스 확인: cuda\n"
     ]
    }
   ],
   "source": [
    "# 3. Colab 환경에서 GPU 사용 확인\n",
    "device = torch.device(\"cuda\" if torch.cuda.is_available() else \"cpu\")\n",
    "print(f\"디바이스 확인: {device}\")"
   ]
  },
  {
   "cell_type": "code",
   "execution_count": 4,
   "id": "e0857a26-1989-4da0-8e42-40b371bece3b",
   "metadata": {},
   "outputs": [
    {
     "name": "stdin",
     "output_type": "stream",
     "text": [
      "🔑 Enter your Hugging Face API token:  ········\n"
     ]
    },
    {
     "name": "stdout",
     "output_type": "stream",
     "text": [
      "✅ Hugging Face token saved to environment variable.\n"
     ]
    }
   ],
   "source": [
    "# Colab에서 입력창으로 Hugging Face Token 받기 \n",
    "import os\n",
    "\n",
    "from getpass import getpass\n",
    "hf_token = getpass('🔑 Enter your Hugging Face API token: ')\n",
    "\n",
    "# 환경 변수로 저장 (코드에 노출 안됨)\n",
    "os.environ['HUGGINGFACE_TOKEN'] = hf_token\n",
    "print(\"✅ Hugging Face token saved to environment variable.\")\n",
    "\n",
    "# huggingface_hub 로그인\n",
    "from huggingface_hub import login\n",
    "login(hf_token)"
   ]
  },
  {
   "cell_type": "code",
   "execution_count": 5,
   "id": "29a2380c-5ad4-4f20-b6c4-570196d01f87",
   "metadata": {},
   "outputs": [
    {
     "name": "stderr",
     "output_type": "stream",
     "text": [
      "/usr/local/lib/python3.11/dist-packages/transformers/models/auto/processing_auto.py:254: FutureWarning: The `use_auth_token` argument is deprecated and will be removed in v5 of Transformers. Please use `token` instead.\n",
      "  warnings.warn(\n"
     ]
    },
    {
     "data": {
      "application/vnd.jupyter.widget-view+json": {
       "model_id": "7b03f175b43047c0911d12f3872f5d37",
       "version_major": 2,
       "version_minor": 0
      },
      "text/plain": [
       "processor_config.json:   0%|          | 0.00/72.0 [00:00<?, ?B/s]"
      ]
     },
     "metadata": {},
     "output_type": "display_data"
    },
    {
     "data": {
      "application/vnd.jupyter.widget-view+json": {
       "model_id": "ad852e26a4b5418eba05e167cc7d82af",
       "version_major": 2,
       "version_minor": 0
      },
      "text/plain": [
       "chat_template.jinja:   0%|          | 0.00/481 [00:00<?, ?B/s]"
      ]
     },
     "metadata": {},
     "output_type": "display_data"
    },
    {
     "data": {
      "application/vnd.jupyter.widget-view+json": {
       "model_id": "1c8be78902b641a8af42882e09149fe8",
       "version_major": 2,
       "version_minor": 0
      },
      "text/plain": [
       "preprocessor_config.json:   0%|          | 0.00/666 [00:00<?, ?B/s]"
      ]
     },
     "metadata": {},
     "output_type": "display_data"
    },
    {
     "data": {
      "application/vnd.jupyter.widget-view+json": {
       "model_id": "689bf563ff52488d853ef810ba1703c0",
       "version_major": 2,
       "version_minor": 0
      },
      "text/plain": [
       "tokenizer_config.json: 0.00B [00:00, ?B/s]"
      ]
     },
     "metadata": {},
     "output_type": "display_data"
    },
    {
     "data": {
      "application/vnd.jupyter.widget-view+json": {
       "model_id": "23f3354eb7984cfaa2b25adda580b837",
       "version_major": 2,
       "version_minor": 0
      },
      "text/plain": [
       "vocab.json: 0.00B [00:00, ?B/s]"
      ]
     },
     "metadata": {},
     "output_type": "display_data"
    },
    {
     "data": {
      "application/vnd.jupyter.widget-view+json": {
       "model_id": "0c5b0efbe37a43ec8e84f2e8d5baca1f",
       "version_major": 2,
       "version_minor": 0
      },
      "text/plain": [
       "merges.txt: 0.00B [00:00, ?B/s]"
      ]
     },
     "metadata": {},
     "output_type": "display_data"
    },
    {
     "data": {
      "application/vnd.jupyter.widget-view+json": {
       "model_id": "ebe3bb9e80fa4ca09733d1f77db74959",
       "version_major": 2,
       "version_minor": 0
      },
      "text/plain": [
       "tokenizer.json:   0%|          | 0.00/11.4M [00:00<?, ?B/s]"
      ]
     },
     "metadata": {},
     "output_type": "display_data"
    },
    {
     "data": {
      "application/vnd.jupyter.widget-view+json": {
       "model_id": "91bec433c7914413a7b247fc75e9d49f",
       "version_major": 2,
       "version_minor": 0
      },
      "text/plain": [
       "added_tokens.json:   0%|          | 0.00/811 [00:00<?, ?B/s]"
      ]
     },
     "metadata": {},
     "output_type": "display_data"
    },
    {
     "data": {
      "application/vnd.jupyter.widget-view+json": {
       "model_id": "5f28b1461f844ed7a8292d6eaba46919",
       "version_major": 2,
       "version_minor": 0
      },
      "text/plain": [
       "special_tokens_map.json:   0%|          | 0.00/877 [00:00<?, ?B/s]"
      ]
     },
     "metadata": {},
     "output_type": "display_data"
    },
    {
     "name": "stderr",
     "output_type": "stream",
     "text": [
      "You have video processor config saved in `preprocessor.json` file which is deprecated. Video processor configs should be saved in their own `video_preprocessor.json` file. You can rename the file or load and save the processor back which renames it automatically. Loading from `preprocessor.json` will be removed in v5.0.\n"
     ]
    },
    {
     "data": {
      "application/vnd.jupyter.widget-view+json": {
       "model_id": "f681fa8d78014c4f8fa6d7d85d7b0d83",
       "version_major": 2,
       "version_minor": 0
      },
      "text/plain": [
       "config.json: 0.00B [00:00, ?B/s]"
      ]
     },
     "metadata": {},
     "output_type": "display_data"
    },
    {
     "name": "stderr",
     "output_type": "stream",
     "text": [
      "/usr/local/lib/python3.11/dist-packages/transformers/modeling_utils.py:4451: FutureWarning: The `use_auth_token` argument is deprecated and will be removed in v5 of Transformers. Please use `token` instead.\n",
      "  warnings.warn(\n"
     ]
    },
    {
     "data": {
      "application/vnd.jupyter.widget-view+json": {
       "model_id": "0a1b0210d8cf4461b474f0d2cada4c82",
       "version_major": 2,
       "version_minor": 0
      },
      "text/plain": [
       "model.safetensors.index.json: 0.00B [00:00, ?B/s]"
      ]
     },
     "metadata": {},
     "output_type": "display_data"
    },
    {
     "data": {
      "application/vnd.jupyter.widget-view+json": {
       "model_id": "11f84455c1de484babdbd79562ce5d57",
       "version_major": 2,
       "version_minor": 0
      },
      "text/plain": [
       "Fetching 4 files:   0%|          | 0/4 [00:00<?, ?it/s]"
      ]
     },
     "metadata": {},
     "output_type": "display_data"
    },
    {
     "data": {
      "application/vnd.jupyter.widget-view+json": {
       "model_id": "cddbb2b3b7a04f20ae0fe220b8077c61",
       "version_major": 2,
       "version_minor": 0
      },
      "text/plain": [
       "model-00002-of-00004.safetensors:   0%|          | 0.00/4.99G [00:00<?, ?B/s]"
      ]
     },
     "metadata": {},
     "output_type": "display_data"
    },
    {
     "data": {
      "application/vnd.jupyter.widget-view+json": {
       "model_id": "ec43f7edd42d4b94acfe3a9fd3442e2f",
       "version_major": 2,
       "version_minor": 0
      },
      "text/plain": [
       "model-00001-of-00004.safetensors:   0%|          | 0.00/4.88G [00:00<?, ?B/s]"
      ]
     },
     "metadata": {},
     "output_type": "display_data"
    },
    {
     "data": {
      "application/vnd.jupyter.widget-view+json": {
       "model_id": "e04a54e125e94ea580408500f6626856",
       "version_major": 2,
       "version_minor": 0
      },
      "text/plain": [
       "model-00003-of-00004.safetensors:   0%|          | 0.00/4.93G [00:00<?, ?B/s]"
      ]
     },
     "metadata": {},
     "output_type": "display_data"
    },
    {
     "data": {
      "application/vnd.jupyter.widget-view+json": {
       "model_id": "53d054cabf684e2ba2d00fd567acd316",
       "version_major": 2,
       "version_minor": 0
      },
      "text/plain": [
       "model-00004-of-00004.safetensors:   0%|          | 0.00/1.09G [00:00<?, ?B/s]"
      ]
     },
     "metadata": {},
     "output_type": "display_data"
    },
    {
     "data": {
      "application/vnd.jupyter.widget-view+json": {
       "model_id": "ad2bdfd415224a25a759fb6aaac4cbb5",
       "version_major": 2,
       "version_minor": 0
      },
      "text/plain": [
       "Loading checkpoint shards:   0%|          | 0/4 [00:00<?, ?it/s]"
      ]
     },
     "metadata": {},
     "output_type": "display_data"
    },
    {
     "data": {
      "application/vnd.jupyter.widget-view+json": {
       "model_id": "d68760e6095f4a939ff97e44840fdcea",
       "version_major": 2,
       "version_minor": 0
      },
      "text/plain": [
       "generation_config.json:   0%|          | 0.00/126 [00:00<?, ?B/s]"
      ]
     },
     "metadata": {},
     "output_type": "display_data"
    }
   ],
   "source": [
    "# 4. 모델 로드 (InternVL3-8B, Qwen2.5-7B)\n",
    "# 일단 8B 모델 사용 더 좋은 GPU 있으면 파라미터 하나 더 높은거 써봐도 좋을듯..\n",
    "# 모델 로드 시 환경변수에서 토큰 꺼내기\n",
    "model_name = \"OpenGVLab/InternVL3-8B-hf\"\n",
    "device = torch.device(\"cuda\" if torch.cuda.is_available() else \"cpu\")\n",
    "token = os.environ['HUGGINGFACE_TOKEN']\n",
    "\n",
    "processor = AutoProcessor.from_pretrained(model_name, use_auth_token=token)\n",
    "model = InternVLForConditionalGeneration.from_pretrained(model_name, use_auth_token=token).to(device)"
   ]
  },
  {
   "cell_type": "code",
   "execution_count": 6,
   "id": "bcba662c-48bd-4a94-98a5-8ccc49526e41",
   "metadata": {},
   "outputs": [
    {
     "name": "stdout",
     "output_type": "stream",
     "text": [
      "InternVLForConditionalGeneration(\n",
      "  (model): InternVLModel(\n",
      "    (vision_tower): InternVLVisionModel(\n",
      "      (embeddings): InternVLVisionEmbeddings(\n",
      "        (patch_embeddings): InternVLVisionPatchEmbeddings(\n",
      "          (projection): Conv2d(3, 1024, kernel_size=(14, 14), stride=(14, 14))\n",
      "        )\n",
      "        (dropout): Dropout(p=0.0, inplace=False)\n",
      "      )\n",
      "      (encoder): InternVLVisionEncoder(\n",
      "        (layer): ModuleList(\n",
      "          (0-23): 24 x InternVLVisionLayer(\n",
      "            (attention): InternVLVisionAttention(\n",
      "              (q_proj): Linear(in_features=1024, out_features=1024, bias=True)\n",
      "              (k_proj): Linear(in_features=1024, out_features=1024, bias=True)\n",
      "              (v_proj): Linear(in_features=1024, out_features=1024, bias=True)\n",
      "              (projection_layer): Linear(in_features=1024, out_features=1024, bias=True)\n",
      "              (projection_dropout): Identity()\n",
      "              (q_norm): Identity()\n",
      "              (k_norm): Identity()\n",
      "            )\n",
      "            (mlp): InternVLVisionMLP(\n",
      "              (activation_fn): GELUActivation()\n",
      "              (fc1): Linear(in_features=1024, out_features=4096, bias=True)\n",
      "              (fc2): Linear(in_features=4096, out_features=1024, bias=True)\n",
      "            )\n",
      "            (layernorm_before): LayerNorm((1024,), eps=1e-06, elementwise_affine=True)\n",
      "            (layernorm_after): LayerNorm((1024,), eps=1e-06, elementwise_affine=True)\n",
      "            (dropout): Dropout(p=0.0, inplace=False)\n",
      "          )\n",
      "        )\n",
      "      )\n",
      "      (layernorm): Identity()\n",
      "    )\n",
      "    (multi_modal_projector): InternVLMultiModalProjector(\n",
      "      (layer_norm): LayerNorm((4096,), eps=1e-05, elementwise_affine=True)\n",
      "      (linear_1): Linear(in_features=4096, out_features=3584, bias=True)\n",
      "      (act): GELUActivation()\n",
      "      (linear_2): Linear(in_features=3584, out_features=3584, bias=True)\n",
      "    )\n",
      "    (language_model): Qwen2Model(\n",
      "      (embed_tokens): Embedding(151674, 3584)\n",
      "      (layers): ModuleList(\n",
      "        (0-27): 28 x Qwen2DecoderLayer(\n",
      "          (self_attn): Qwen2Attention(\n",
      "            (q_proj): Linear(in_features=3584, out_features=3584, bias=True)\n",
      "            (k_proj): Linear(in_features=3584, out_features=512, bias=True)\n",
      "            (v_proj): Linear(in_features=3584, out_features=512, bias=True)\n",
      "            (o_proj): Linear(in_features=3584, out_features=3584, bias=False)\n",
      "          )\n",
      "          (mlp): Qwen2MLP(\n",
      "            (gate_proj): Linear(in_features=3584, out_features=18944, bias=False)\n",
      "            (up_proj): Linear(in_features=3584, out_features=18944, bias=False)\n",
      "            (down_proj): Linear(in_features=18944, out_features=3584, bias=False)\n",
      "            (act_fn): SiLU()\n",
      "          )\n",
      "          (input_layernorm): Qwen2RMSNorm((3584,), eps=1e-06)\n",
      "          (post_attention_layernorm): Qwen2RMSNorm((3584,), eps=1e-06)\n",
      "        )\n",
      "      )\n",
      "      (norm): Qwen2RMSNorm((3584,), eps=1e-06)\n",
      "      (rotary_emb): Qwen2RotaryEmbedding()\n",
      "    )\n",
      "  )\n",
      "  (lm_head): Linear(in_features=3584, out_features=151674, bias=False)\n",
      ")\n"
     ]
    }
   ],
   "source": [
    "print(model)"
   ]
  },
  {
   "cell_type": "code",
   "execution_count": 9,
   "id": "b9d24062-ded8-422d-ab2a-a16c051729ea",
   "metadata": {},
   "outputs": [
    {
     "data": {
      "application/vnd.jupyter.widget-view+json": {
       "model_id": "3315e0b4868d485d8da0603b5aa585ee",
       "version_major": 2,
       "version_minor": 0
      },
      "text/plain": [
       "Loading checkpoint shards:   0%|          | 0/4 [00:00<?, ?it/s]"
      ]
     },
     "metadata": {},
     "output_type": "display_data"
    }
   ],
   "source": [
    "from transformers import AutoProcessor, AutoModelForImageTextToText\n",
    "import gc\n",
    "import os\n",
    "import torch\n",
    "\n",
    "# 모델 및 processor 로드 (float16)\n",
    "processor = AutoProcessor.from_pretrained(model_name)\n",
    "model = AutoModelForImageTextToText.from_pretrained(\n",
    "    model_name,\n",
    "    device_map=device,\n",
    "    torch_dtype=torch.float16  # ✅ float16로 메모리 절약\n",
    ").to(device)"
   ]
  },
  {
   "cell_type": "code",
   "execution_count": 21,
   "id": "f44151fb-7c52-46d5-b434-f9af13adcbf4",
   "metadata": {},
   "outputs": [
    {
     "name": "stderr",
     "output_type": "stream",
     "text": [
      "Setting `pad_token_id` to `eos_token_id`:151645 for open-end generation.\n",
      "Setting `pad_token_id` to `eos_token_id`:151645 for open-end generation.\n"
     ]
    },
    {
     "name": "stdout",
     "output_type": "stream",
     "text": [
      "\n",
      "✅ [1] 10_2026_캐스퍼.png\n",
      "------------------------------------------------------------\n",
      "This SUV features a compact body type with a balanced, modern proportion. The surface is smooth with subtle curves, enhancing aerodynamics. It has sleek, integrated lighting. The grill is narrow and horizontal, contributing to a contemporary look. The wheels are stylish with a multi-spoke design. The color is a matte olive green, giving it a rugged yet sophisticated appearance. Unique elements include roof rails and a slightly elevated stance, adding a touch of futurism.\n",
      "------------------------------------------------------------\n"
     ]
    },
    {
     "name": "stderr",
     "output_type": "stream",
     "text": [
      "Setting `pad_token_id` to `eos_token_id`:151645 for open-end generation.\n"
     ]
    },
    {
     "name": "stdout",
     "output_type": "stream",
     "text": [
      "\n",
      "✅ [2] 10_유니버스_수소전기버스.png\n",
      "------------------------------------------------------------\n",
      "This bus features a modern, elongated body type with a streamlined, aerodynamic design. The proportions are balanced, with a long, low profile. The surface is smooth with large, tinted windows for passenger comfort. The lighting includes sleek, integrated headlights and LED strips. The grill is minimalistic and wide, enhancing the bus's modern look. It has large, multi-spoke alloy wheels. The color is predominantly white, giving it a clean appearance. Unique elements include the futuristic, curved front and advanced lighting design.\n",
      "------------------------------------------------------------\n"
     ]
    },
    {
     "name": "stderr",
     "output_type": "stream",
     "text": [
      "Setting `pad_token_id` to `eos_token_id`:151645 for open-end generation.\n"
     ]
    },
    {
     "name": "stdout",
     "output_type": "stream",
     "text": [
      "\n",
      "✅ [3] 11_유니버스_모바일_오피스.png\n",
      "------------------------------------------------------------\n",
      "This bus features a modern, elongated body type with a sleek, aerodynamic design. The proportions are balanced, with a large, expansive surface area for windows, enhancing visibility and light entry. The lighting includes integrated, streamlined headlights and LED accents. The grill is minimalist and horizontal, blending with the front surface. The wheels are large and alloy, adding to the modern aesthetic. The color scheme is primarily black and white, giving it a professional look. Unique elements include the \"Mobile Office\" branding and futuristic blue accents along the side.\n",
      "------------------------------------------------------------\n"
     ]
    },
    {
     "name": "stderr",
     "output_type": "stream",
     "text": [
      "Setting `pad_token_id` to `eos_token_id`:151645 for open-end generation.\n"
     ]
    },
    {
     "name": "stdout",
     "output_type": "stream",
     "text": [
      "\n",
      "✅ [4] 1_그랜저.png\n",
      "------------------------------------------------------------\n",
      "This car features a sleek estate body type with a balanced, elongated proportion. The smooth, aerodynamic surface enhances its modern look. Subtle lighting accents are integrated into the design, with a minimalist LED strip at the rear. The grill is narrow and horizontal, contributing to a streamlined front fascia. Large, multi-spoke alloy wheels add to its dynamic appearance. The matte gray color gives it a sophisticated finish. Unique elements include the flush door handles and a distinctive, futuristic taillight design.\n",
      "------------------------------------------------------------\n"
     ]
    },
    {
     "name": "stderr",
     "output_type": "stream",
     "text": [
      "Setting `pad_token_id` to `eos_token_id`:151645 for open-end generation.\n"
     ]
    },
    {
     "name": "stdout",
     "output_type": "stream",
     "text": [
      "\n",
      "✅ [5] 1_그랜저_택시.png\n",
      "------------------------------------------------------------\n",
      "This car features a sleek estate body type with a balanced, elongated proportion. The smooth, aerodynamic surface enhances its modern look. Subtle lighting accents highlight the contours. The grill is narrow and integrated seamlessly into the front fascia. It has stylish, multi-spoke alloy wheels. The matte black color gives it a sophisticated appearance. Unique elements include the streamlined roofline and minimalist design cues, adding a futuristic touch.\n",
      "------------------------------------------------------------\n"
     ]
    },
    {
     "name": "stderr",
     "output_type": "stream",
     "text": [
      "Setting `pad_token_id` to `eos_token_id`:151645 for open-end generation.\n"
     ]
    },
    {
     "name": "stdout",
     "output_type": "stream",
     "text": [
      "\n",
      "✅ [6] 1_더_뉴_마이티.png\n",
      "------------------------------------------------------------\n",
      "This is actually a light commercial vehicle, not a car. Here's a brief design summary:\n",
      "\n",
      "- **Body Type:** Flatbed truck.\n",
      "- **Proportions:** Balanced, with a compact cab and extended cargo area.\n",
      "- **Surface:** Smooth and clean lines, with a focus on functionality.\n",
      "- **Lighting:** Standard headlights and integrated turn signals.\n",
      "- **Grill:** Prominent and rectangular, contributing to a robust appearance.\n",
      "- **Wheels:** Standard commercial truck wheels, likely steel with simple hubcaps.\n",
      "- **Color:** White with orange reflective striping for visibility.\n",
      "- **Unique Elements:** The orange reflective striping adds a distinctive safety feature.\n",
      "------------------------------------------------------------\n"
     ]
    },
    {
     "name": "stderr",
     "output_type": "stream",
     "text": [
      "Setting `pad_token_id` to `eos_token_id`:151645 for open-end generation.\n"
     ]
    },
    {
     "name": "stdout",
     "output_type": "stream",
     "text": [
      "\n",
      "✅ [7] 1_디_올_뉴_넥쏘.png\n",
      "------------------------------------------------------------\n",
      "This car features a modern SUV body type with sleek, balanced proportions. The design includes smooth, flowing surfaces and minimalistic lighting with integrated LED accents. The grill is narrow and horizontal, contributing to a contemporary look. It has stylish, multi-spoke alloy wheels. The color is a neutral beige, offering a sophisticated appearance. Unique elements include the sculpted side panels and a slightly elevated roofline, adding a futuristic touch.\n",
      "------------------------------------------------------------\n"
     ]
    },
    {
     "name": "stderr",
     "output_type": "stream",
     "text": [
      "Setting `pad_token_id` to `eos_token_id`:151645 for open-end generation.\n"
     ]
    },
    {
     "name": "stdout",
     "output_type": "stream",
     "text": [
      "\n",
      "✅ [8] 1_스타리아_라운지.png\n",
      "------------------------------------------------------------\n",
      "This car features a modern minivan body type with a sleek, elongated proportions. The surface is smooth with tinted windows, giving it a sophisticated look. It has subtle lighting integrated into the windows and body. The grill is understated, blending with the front fascia. The wheels are stylish alloy designs. The color is a glossy black, enhancing its premium feel. Unique elements include the streamlined side profile and potential futuristic LED accents.\n",
      "------------------------------------------------------------\n"
     ]
    },
    {
     "name": "stderr",
     "output_type": "stream",
     "text": [
      "Setting `pad_token_id` to `eos_token_id`:151645 for open-end generation.\n"
     ]
    },
    {
     "name": "stdout",
     "output_type": "stream",
     "text": [
      "\n",
      "✅ [9] 1_쏠라티.png\n",
      "------------------------------------------------------------\n",
      "This car features a modern minivan body type with a balanced, elongated proportions. The surface is smooth with sleek, tinted windows. It has contemporary LED lighting and a prominent, horizontal grille. The wheels are alloy, adding a sporty touch. The color is a sleek black. Unique elements include the streamlined roofline and integrated roof rails, giving it a futuristic and aerodynamic appearance.\n",
      "------------------------------------------------------------\n"
     ]
    },
    {
     "name": "stderr",
     "output_type": "stream",
     "text": [
      "Setting `pad_token_id` to `eos_token_id`:151645 for open-end generation.\n"
     ]
    },
    {
     "name": "stdout",
     "output_type": "stream",
     "text": [
      "\n",
      "✅ [10] 1_아반떼_N.png\n",
      "------------------------------------------------------------\n",
      "This car features a sleek, sporty hatchback body type with dynamic proportions. The surface is smooth with sharp creases adding depth. It has modern, narrow lighting elements. The grill is aggressive and low-profile, complemented by large, black wheels with red accents. The color is a metallic blue, giving it a futuristic look. Unique elements include the aerodynamic rear spoiler and side skirts.\n",
      "------------------------------------------------------------\n"
     ]
    },
    {
     "name": "stderr",
     "output_type": "stream",
     "text": [
      "Setting `pad_token_id` to `eos_token_id`:151645 for open-end generation.\n"
     ]
    },
    {
     "name": "stdout",
     "output_type": "stream",
     "text": [
      "\n",
      "✅ [11] 1_코나.png\n",
      "------------------------------------------------------------\n",
      "This car features a modern SUV body type with sleek, balanced proportions. The surface has sharp, angular lines and smooth curves, creating a dynamic appearance. The lighting includes narrow, contemporary LED strips. The grill is minimalist and integrated, enhancing the streamlined look. The wheels are large with a sporty, multi-spoke design. The color is a muted, sophisticated gray. Unique elements include the geometric surface patterns and a compact, futuristic roof spoiler.\n",
      "------------------------------------------------------------\n"
     ]
    },
    {
     "name": "stderr",
     "output_type": "stream",
     "text": [
      "Setting `pad_token_id` to `eos_token_id`:151645 for open-end generation.\n"
     ]
    },
    {
     "name": "stdout",
     "output_type": "stream",
     "text": [
      "\n",
      "✅ [12] 2_그랜저_Hybrid.png\n",
      "------------------------------------------------------------\n",
      "This car features a sleek estate body type with a balanced, elongated proportion. The smooth, metallic surface has subtle curves and minimalistic lines. The lighting is integrated seamlessly, with slim, modern LED accents. The grill is wide and horizontal, contributing to a sophisticated front fascia. The wheels are large with a multi-spoke design, enhancing the dynamic look. The color is a muted, sophisticated gray. Unique elements include the aerodynamic lines and a futuristic, minimalist aesthetic.\n",
      "------------------------------------------------------------\n"
     ]
    },
    {
     "name": "stderr",
     "output_type": "stream",
     "text": [
      "Setting `pad_token_id` to `eos_token_id`:151645 for open-end generation.\n"
     ]
    },
    {
     "name": "stdout",
     "output_type": "stream",
     "text": [
      "\n",
      "✅ [13] 2_더_뉴_파비스.png\n",
      "------------------------------------------------------------\n",
      "This truck features a modern cab-over-engine body type with a balanced proportion between the cab and cargo area. The surface is smooth with angular lines, giving it a contemporary look. The lighting includes integrated headlights and fog lights. The grill is prominent with a geometric pattern, enhancing its aggressive appearance. It has large alloy wheels for a robust look. The color is white, providing a clean and professional aesthetic. Unique elements include the angular design accents and a futuristic grill pattern.\n",
      "------------------------------------------------------------\n"
     ]
    },
    {
     "name": "stderr",
     "output_type": "stream",
     "text": [
      "Setting `pad_token_id` to `eos_token_id`:151645 for open-end generation.\n"
     ]
    },
    {
     "name": "stdout",
     "output_type": "stream",
     "text": [
      "\n",
      "✅ [14] 2_스타리아_라운지_Hybrid.png\n",
      "------------------------------------------------------------\n",
      "This car features a modern minivan body type with a sleek, elongated proportions. The surface is smooth with subtle curves, enhancing aerodynamics. It has integrated, minimalist lighting with narrow LED strips. The grill is compact and understated, blending into the front fascia. The wheels are stylish with a multi-spoke alloy design. The color is a neutral gray, giving it a professional look. Unique elements include large, tinted windows and a slightly elevated roofline, suggesting a focus on spaciousness and modern aesthetics.\n",
      "------------------------------------------------------------\n"
     ]
    },
    {
     "name": "stderr",
     "output_type": "stream",
     "text": [
      "Setting `pad_token_id` to `eos_token_id`:151645 for open-end generation.\n"
     ]
    },
    {
     "name": "stdout",
     "output_type": "stream",
     "text": [
      "\n",
      "✅ [15] 2_쏘나타_택시.png\n",
      "------------------------------------------------------------\n",
      "This car features a sleek, modern hatchback body type with a balanced proportion. The design includes smooth, aerodynamic surfaces and sharp, angular lighting elements. The grill is narrow and integrated, enhancing the futuristic look. It has stylish, multi-spoke alloy wheels. The color is a clean white, complementing its contemporary aesthetic. Unique elements include the sculpted side panels and distinctive rear light design, adding a futuristic touch.\n",
      "------------------------------------------------------------\n"
     ]
    },
    {
     "name": "stderr",
     "output_type": "stream",
     "text": [
      "Setting `pad_token_id` to `eos_token_id`:151645 for open-end generation.\n"
     ]
    },
    {
     "name": "stdout",
     "output_type": "stream",
     "text": [
      "\n",
      "✅ [16] 2_아이오닉_5.png\n",
      "------------------------------------------------------------\n",
      "This car features a sleek, modern SUV body type with a balanced, aerodynamic proportion. The surface is smooth with sharp, angular lines adding a dynamic edge. The lighting is minimalist and integrated, likely featuring LED technology. The grill is narrow and horizontal, blending seamlessly with the front design. The wheels are large and sporty with a multi-spoke alloy design. The color is a neutral, metallic shade. Unique elements include the geometric surface treatments and a distinctive rear spoiler, giving it a futuristic appearance.\n",
      "------------------------------------------------------------\n"
     ]
    },
    {
     "name": "stderr",
     "output_type": "stream",
     "text": [
      "Setting `pad_token_id` to `eos_token_id`:151645 for open-end generation.\n"
     ]
    },
    {
     "name": "stdout",
     "output_type": "stream",
     "text": [
      "\n",
      "✅ [17] 2_아이오닉_5_N.png\n",
      "------------------------------------------------------------\n",
      "This car features a modern hatchback body type with sleek, balanced proportions. The surface is smooth with sharp, angular lines adding dynamic character. The lighting is contemporary, likely incorporating LED technology for a sharp, modern look. The grill is narrow and integrated, enhancing aerodynamics. The wheels are large with a sporty, multi-spoke design. The color is a light blue, giving it a fresh, modern vibe. Unique elements include the contrasting red accents and futuristic wheel design, adding a distinctive flair.\n",
      "------------------------------------------------------------\n"
     ]
    },
    {
     "name": "stderr",
     "output_type": "stream",
     "text": [
      "Setting `pad_token_id` to `eos_token_id`:151645 for open-end generation.\n"
     ]
    },
    {
     "name": "stdout",
     "output_type": "stream",
     "text": [
      "\n",
      "✅ [18] 2_카운티.png\n",
      "------------------------------------------------------------\n",
      "This is a minibus design featuring a compact, elongated body type with a high roof for increased headroom. The proportions are balanced, with a slightly wider front section tapering towards the rear. The surface is smooth with minimalistic panel lines. The lighting includes integrated headlights and daytime running lights. The grill is simple and horizontal, complementing the modern aesthetic. The wheels are standard alloy designs. The color scheme is primarily white with a dark lower trim. Unique elements include the streamlined side windows and a subtle graphic on the rear side panel.\n",
      "------------------------------------------------------------\n"
     ]
    },
    {
     "name": "stderr",
     "output_type": "stream",
     "text": [
      "Setting `pad_token_id` to `eos_token_id`:151645 for open-end generation.\n"
     ]
    },
    {
     "name": "stdout",
     "output_type": "stream",
     "text": [
      "\n",
      "✅ [19] 2_코나_Hybrid.png\n",
      "------------------------------------------------------------\n",
      "This car features a modern SUV body type with sleek, balanced proportions. The surface has sharp, angular lines and smooth curves, creating a dynamic appearance. The lighting includes narrow, contemporary LED strips. The grill is wide and horizontal, adding to the vehicle's assertive look. It has stylish, multi-spoke alloy wheels. The color is a matte gray, giving it a sophisticated vibe. Unique elements include the sculpted side panels and a futuristic rear light design.\n",
      "------------------------------------------------------------\n"
     ]
    },
    {
     "name": "stderr",
     "output_type": "stream",
     "text": [
      "Setting `pad_token_id` to `eos_token_id`:151645 for open-end generation.\n"
     ]
    },
    {
     "name": "stdout",
     "output_type": "stream",
     "text": [
      "\n",
      "✅ [20] 3_뉴파워트럭.png\n",
      "------------------------------------------------------------\n",
      "This is a dump truck design featuring a robust, utilitarian body type with a high cargo bed for heavy-duty use. The proportions are balanced, with a strong, wide stance. The surface is smooth with minimalistic detailing. The lighting consists of basic rectangular headlights. The grill is prominent and horizontal, adding to the truck's sturdy appearance. It has large, heavy-duty wheels suited for off-road conditions. The color is a clean white, emphasizing simplicity and functionality. Unique elements include the articulated dump body and side mirrors for visibility, with no futuristic features present.\n",
      "------------------------------------------------------------\n"
     ]
    },
    {
     "name": "stderr",
     "output_type": "stream",
     "text": [
      "Setting `pad_token_id` to `eos_token_id`:151645 for open-end generation.\n"
     ]
    },
    {
     "name": "stdout",
     "output_type": "stream",
     "text": [
      "\n",
      "✅ [21] 3_베뉴.png\n",
      "------------------------------------------------------------\n",
      "This SUV features a modern crossover body type with a balanced, compact proportion. The design includes sleek, minimalistic surfaces with integrated lighting elements. The grill is narrow and horizontal, complementing the contemporary look. It has stylish alloy wheels and a dark, sophisticated color. Unique elements include the sculpted side panels and subtle LED accents, adding a futuristic touch.\n",
      "------------------------------------------------------------\n"
     ]
    },
    {
     "name": "stderr",
     "output_type": "stream",
     "text": [
      "Setting `pad_token_id` to `eos_token_id`:151645 for open-end generation.\n"
     ]
    },
    {
     "name": "stdout",
     "output_type": "stream",
     "text": [
      "\n",
      "✅ [22] 3_스타리아.png\n",
      "------------------------------------------------------------\n",
      "This car features a modern minivan body type with a balanced, boxy proportion. The surface is smooth with tinted windows. It has integrated, understated lighting and a simple, horizontal grill. The wheels are alloy with a classic design. The color is a sleek black. Unique elements include the streamlined side profile and subtle roof antenna.\n",
      "------------------------------------------------------------\n"
     ]
    },
    {
     "name": "stderr",
     "output_type": "stream",
     "text": [
      "Setting `pad_token_id` to `eos_token_id`:151645 for open-end generation.\n"
     ]
    },
    {
     "name": "stdout",
     "output_type": "stream",
     "text": [
      "\n",
      "✅ [23] 3_스타리아_라운지_모빌리티.png\n",
      "------------------------------------------------------------\n",
      "This car features a modern minivan body type with a sleek, elongated proportions. The surface is smooth with tinted windows. It has contemporary lighting with integrated daytime running lights. The grill is subtle and horizontal, blending into the front fascia. The wheels are stylish alloy designs. The color is a matte black, giving it a sophisticated look. Unique elements include the streamlined side profile and potential futuristic LED accents.\n",
      "------------------------------------------------------------\n"
     ]
    },
    {
     "name": "stderr",
     "output_type": "stream",
     "text": [
      "Setting `pad_token_id` to `eos_token_id`:151645 for open-end generation.\n"
     ]
    },
    {
     "name": "stdout",
     "output_type": "stream",
     "text": [
      "\n",
      "✅ [24] 3_아반떼.png\n",
      "------------------------------------------------------------\n",
      "This car features a sleek sedan body type with a balanced and aerodynamic proportion. The surface is smooth with subtle curves and creases, enhancing its dynamic appearance. The lighting includes sharp, angular LED headlights and taillights that add a modern touch. The grill is narrow and horizontal, contributing to a contemporary look. It has stylish alloy wheels that complement its sporty vibe. The color is a metallic blue, giving it a sophisticated finish. Unique elements include the sculpted side panels and a distinctive rear spoiler, adding a futuristic flair.\n",
      "------------------------------------------------------------\n"
     ]
    },
    {
     "name": "stderr",
     "output_type": "stream",
     "text": [
      "Setting `pad_token_id` to `eos_token_id`:151645 for open-end generation.\n"
     ]
    },
    {
     "name": "stdout",
     "output_type": "stream",
     "text": [
      "\n",
      "✅ [25] 3_카운티_일렉트릭.png\n",
      "------------------------------------------------------------\n",
      "This is a modern coach bus design featuring a streamlined body type with a low and wide proportion for stability. The surface is smooth with large windows for passenger visibility. The lighting includes integrated headlights and daytime running lights. The grill is simple and horizontal, blending with the front design. It has alloy wheels for a sleek look. The color scheme is predominantly white with blue accents. Unique elements include the blue digital-like pattern on the side, adding a futuristic touch.\n",
      "------------------------------------------------------------\n"
     ]
    },
    {
     "name": "stderr",
     "output_type": "stream",
     "text": [
      "Setting `pad_token_id` to `eos_token_id`:151645 for open-end generation.\n"
     ]
    },
    {
     "name": "stdout",
     "output_type": "stream",
     "text": [
      "\n",
      "✅ [26] 3_코나_Electric.png\n",
      "------------------------------------------------------------\n",
      "This car features a modern SUV body type with sleek, balanced proportions. The surface has sharp, angular lines and smooth curves, creating a dynamic appearance. The lighting includes narrow, contemporary LED strips. The grill is distinctive, with a bold, geometric design. It has stylish, multi-spoke alloy wheels. The color is a metallic blue, adding a modern touch. Unique elements include the sculpted side panels and a futuristic rear spoiler.\n",
      "------------------------------------------------------------\n"
     ]
    },
    {
     "name": "stderr",
     "output_type": "stream",
     "text": [
      "Setting `pad_token_id` to `eos_token_id`:151645 for open-end generation.\n"
     ]
    },
    {
     "name": "stdout",
     "output_type": "stream",
     "text": [
      "\n",
      "✅ [27] 4_더_뉴_엑시언트.png\n",
      "------------------------------------------------------------\n",
      "This truck features a modern cab-over-engine body type with a sleek, aerodynamic design. The proportions are balanced, emphasizing width and height. The surface is smooth with subtle curves and lines for airflow. It has integrated, minimalist lighting. The grill is prominent and horizontal, adding to the bold front fascia. The wheels are large and multi-spoked, enhancing its robust appearance. The color is a striking red, giving it a dynamic look. Unique elements include the streamlined cab and possible futuristic LED accents.\n",
      "------------------------------------------------------------\n",
      "\n",
      "✅ [28] 4_디_올_뉴_팰리세이드.png\n",
      "------------------------------------------------------------\n",
      "This car features a modern SUV body type with a balanced, elongated proportion. The surface is sleek with smooth, flowing lines. It has contemporary lighting with narrow, integrated LED strips. The grill is subtle and horizontal, blending with the front design. The wheels are large with a multi-spoke alloy pattern. The color is a sophisticated dark green. Unique elements include the roof rails and aerodynamic side mirrors, adding a futuristic touch.\n",
      "------------------------------------------------------------\n"
     ]
    },
    {
     "name": "stderr",
     "output_type": "stream",
     "text": [
      "Setting `pad_token_id` to `eos_token_id`:151645 for open-end generation.\n",
      "Setting `pad_token_id` to `eos_token_id`:151645 for open-end generation.\n"
     ]
    },
    {
     "name": "stdout",
     "output_type": "stream",
     "text": [
      "\n",
      "✅ [29] 4_스타리아_Hybrid.png\n",
      "------------------------------------------------------------\n",
      "This car features a modern minivan body type with a balanced, boxy proportion. The surface is smooth with minimalistic design, and it includes tinted windows. The lighting consists of sleek, integrated headlights. The grill is understated and compact. It has alloy wheels with a simple design. The color is a neutral gray. Unique elements include the streamlined side profile and subtle futuristic detailing in the wheel arches.\n",
      "------------------------------------------------------------\n"
     ]
    },
    {
     "name": "stderr",
     "output_type": "stream",
     "text": [
      "Setting `pad_token_id` to `eos_token_id`:151645 for open-end generation.\n"
     ]
    },
    {
     "name": "stdout",
     "output_type": "stream",
     "text": [
      "\n",
      "✅ [30] 4_스타리아_라운지_모빌리티_Hybrid.png\n",
      "------------------------------------------------------------\n",
      "This car features a modern minivan body type with a sleek, elongated proportions. The surface is smooth with subtle curves, enhancing aerodynamics. It has integrated, minimalist lighting with narrow LED strips. The grill is compact and understated, blending into the front fascia. The wheels are stylish with a multi-spoke alloy design. The color is a neutral gray, giving it a professional look. Unique elements include large, tinted windows and a slightly elevated roofline, suggesting a focus on spaciousness and modern aesthetics.\n",
      "------------------------------------------------------------\n"
     ]
    },
    {
     "name": "stderr",
     "output_type": "stream",
     "text": [
      "Setting `pad_token_id` to `eos_token_id`:151645 for open-end generation.\n"
     ]
    },
    {
     "name": "stdout",
     "output_type": "stream",
     "text": [
      "\n",
      "✅ [31] 4_아반떼_Hybrid.png\n",
      "------------------------------------------------------------\n",
      "This car features a sleek sedan body type with a balanced and aerodynamic proportion. The surface is smooth with sharp creases adding dynamic lines. The lighting includes modern, angular LED headlights and taillights. The grill is narrow and horizontal, enhancing a contemporary look. It has stylish alloy wheels that complement its sporty vibe. The color is a sophisticated dark gray. Unique elements include the sculpted side panels and a subtle rear spoiler, adding a futuristic touch.\n",
      "------------------------------------------------------------\n"
     ]
    },
    {
     "name": "stderr",
     "output_type": "stream",
     "text": [
      "Setting `pad_token_id` to `eos_token_id`:151645 for open-end generation.\n"
     ]
    },
    {
     "name": "stdout",
     "output_type": "stream",
     "text": [
      "\n",
      "✅ [32] 4_아이오닉_9.png\n",
      "------------------------------------------------------------\n",
      "This car features a modern SUV body type with a sleek, elongated proportions. The surface is smooth with subtle curves, enhancing aerodynamics. The lighting appears integrated and streamlined, likely LED for a contemporary look. The grill is narrow and horizontal, contributing to a sophisticated front fascia. The wheels are large with a multi-spoke alloy design, adding to the vehicle's dynamic stance. The color is a muted, modern shade of gray. Unique elements include the angular rear window design and the sculpted side panels, giving it a futuristic appearance.\n",
      "------------------------------------------------------------\n"
     ]
    },
    {
     "name": "stderr",
     "output_type": "stream",
     "text": [
      "Setting `pad_token_id` to `eos_token_id`:151645 for open-end generation.\n"
     ]
    },
    {
     "name": "stdout",
     "output_type": "stream",
     "text": [
      "\n",
      "✅ [33] 4_일렉시티_타운.png\n",
      "------------------------------------------------------------\n",
      "This bus features a modern, low-floor city bus body type with a streamlined, elongated proportion. The surface is smooth with large, continuous windows for visibility. It has a minimalist lighting setup with integrated headlights and LED strips. The grill is narrow and sleek, enhancing aerodynamics. The wheels are compact and efficient, suitable for urban use. The color is vibrant green, symbolizing eco-friendliness. Unique elements include the \"ELEC CITY\" branding and a futuristic, rounded front design.\n",
      "------------------------------------------------------------\n"
     ]
    },
    {
     "name": "stderr",
     "output_type": "stream",
     "text": [
      "Setting `pad_token_id` to `eos_token_id`:151645 for open-end generation.\n"
     ]
    },
    {
     "name": "stdout",
     "output_type": "stream",
     "text": [
      "\n",
      "✅ [34] 5_ST1.png\n",
      "------------------------------------------------------------\n",
      "This is a modern commercial van design featuring a boxy body type with a long cargo area. The proportions are balanced, emphasizing functionality. The surface is smooth with minimal detailing. It has integrated, understated lighting. The grill is compact and unobtrusive. The wheels are simple and utilitarian. The color is a neutral white. Unique elements include the sliding door and rear cargo access, with no distinct futuristic features.\n",
      "------------------------------------------------------------\n"
     ]
    },
    {
     "name": "stderr",
     "output_type": "stream",
     "text": [
      "Setting `pad_token_id` to `eos_token_id`:151645 for open-end generation.\n"
     ]
    },
    {
     "name": "stdout",
     "output_type": "stream",
     "text": [
      "\n",
      "✅ [35] 5_뉴_슈퍼에어로시티.png\n",
      "------------------------------------------------------------\n",
      "This bus features a modern, streamlined body with a low and wide proportion, emphasizing aerodynamics. The surface is smooth with large windows for visibility and energy efficiency. The lighting includes sleek, integrated headlights and LED strips. The grill is minimalistic and horizontal, blending with the front design. It has large, alloy wheels for a sporty look. The color is a uniform blue, giving it a futuristic appearance. Unique elements include a roof-mounted air conditioning unit and a side camera for enhanced safety and visibility.\n",
      "------------------------------------------------------------\n"
     ]
    },
    {
     "name": "stderr",
     "output_type": "stream",
     "text": [
      "Setting `pad_token_id` to `eos_token_id`:151645 for open-end generation.\n"
     ]
    },
    {
     "name": "stdout",
     "output_type": "stream",
     "text": [
      "\n",
      "✅ [36] 5_디_올_뉴_팰리세이드_Hybrid.png\n",
      "------------------------------------------------------------\n",
      "This car features a modern SUV body type with a balanced, elongated proportion. The surface is sleek with smooth, flowing lines. It has contemporary lighting with narrow, integrated LED strips. The grill is subtle and horizontal, blending with the front design. The wheels are large with a multi-spoke alloy pattern. The color is a matte dark gray, giving it a sophisticated look. Unique elements include the streamlined side profile and a futuristic rear light design.\n",
      "------------------------------------------------------------\n"
     ]
    },
    {
     "name": "stderr",
     "output_type": "stream",
     "text": [
      "Setting `pad_token_id` to `eos_token_id`:151645 for open-end generation.\n"
     ]
    },
    {
     "name": "stdout",
     "output_type": "stream",
     "text": [
      "\n",
      "✅ [37] 5_스타리아_킨더.png\n",
      "------------------------------------------------------------\n",
      "This car features a compact minivan body type with a balanced, boxy proportion. The surface is smooth with tinted windows. It has integrated, understated lighting and a simple, flat grill. The wheels are compact and functional. The color is bright yellow, adding a pop of vibrancy. Unique elements include the taxi signage on the roof and a circular emblem on the door.\n",
      "------------------------------------------------------------\n"
     ]
    },
    {
     "name": "stderr",
     "output_type": "stream",
     "text": [
      "Setting `pad_token_id` to `eos_token_id`:151645 for open-end generation.\n"
     ]
    },
    {
     "name": "stdout",
     "output_type": "stream",
     "text": [
      "\n",
      "✅ [38] 5_쏘나타_디_엣지.png\n",
      "------------------------------------------------------------\n",
      "This car features a sleek, modern sedan body type with a balanced and aerodynamic proportion. The surface is smooth with subtle curves, enhancing its streamlined look. The lighting includes sharp, angular LED headlights and taillights that add a contemporary touch. The grill is narrow and integrated, contributing to a cohesive front fascia. It has stylish, multi-spoke alloy wheels that complement its sporty aesthetic. The color is a metallic silver, giving it a sophisticated appearance. Unique elements include the sculpted side panels and a distinctive rear spoiler, adding a futuristic flair.\n",
      "------------------------------------------------------------\n"
     ]
    },
    {
     "name": "stderr",
     "output_type": "stream",
     "text": [
      "Setting `pad_token_id` to `eos_token_id`:151645 for open-end generation.\n"
     ]
    },
    {
     "name": "stdout",
     "output_type": "stream",
     "text": [
      "\n",
      "✅ [39] 5_엑시언트_수소전기트럭.png\n",
      "------------------------------------------------------------\n",
      "This truck features a modern semi-truck design with the following elements:\n",
      "\n",
      "- **Body Type:** A large, boxy cargo trailer for heavy-duty transport.\n",
      "- **Proportions:** Long and low, emphasizing stability and cargo capacity.\n",
      "- **Surface:** Smooth and sleek with minimalistic panel lines.\n",
      "- **Lighting:** Integrated headlights and possibly LED accents for a contemporary look.\n",
      "- **Grill:** Prominent, large grille with a checkered pattern for a bold front fascia.\n",
      "- **Wheels:** Large, multi-spoke alloy wheels for durability and performance.\n",
      "- **Color:** Metallic silver with subtle blue accents.\n",
      "- **Unique Elements:** The checkered grille and streamlined design give it a modern, aerodynamic appearance.\n",
      "------------------------------------------------------------\n"
     ]
    },
    {
     "name": "stderr",
     "output_type": "stream",
     "text": [
      "Setting `pad_token_id` to `eos_token_id`:151645 for open-end generation.\n"
     ]
    },
    {
     "name": "stdout",
     "output_type": "stream",
     "text": [
      "\n",
      "✅ [40] 5_포터_II.png\n",
      "------------------------------------------------------------\n",
      "This is a white utility truck with a short cab and a flatbed cargo area. The proportions are compact and functional. The surface is smooth with minimal detailing. It features simple, integrated lighting and a small, understated grill. The wheels are standard alloy designs. The overall color is a clean white. Unique elements include the flatbed and compact size, which emphasize practicality over aesthetics.\n",
      "------------------------------------------------------------\n"
     ]
    },
    {
     "name": "stderr",
     "output_type": "stream",
     "text": [
      "Setting `pad_token_id` to `eos_token_id`:151645 for open-end generation.\n"
     ]
    },
    {
     "name": "stdout",
     "output_type": "stream",
     "text": [
      "\n",
      "✅ [41] 6_스타리아_라운지_캠퍼.png\n",
      "------------------------------------------------------------\n",
      "This car features a modern minivan body type with a sleek, elongated proportions. The surface is smooth with tinted windows, giving it a sophisticated look. It has subtle lighting integrated into the body. The grill is understated, blending with the front design. The wheels are stylish and multi-spoked. The color is a glossy black, enhancing its premium feel. Unique elements include the roof spoiler and aerodynamic lines, adding a futuristic touch.\n",
      "------------------------------------------------------------\n"
     ]
    },
    {
     "name": "stderr",
     "output_type": "stream",
     "text": [
      "Setting `pad_token_id` to `eos_token_id`:151645 for open-end generation.\n"
     ]
    },
    {
     "name": "stdout",
     "output_type": "stream",
     "text": [
      "\n",
      "✅ [42] 6_쏘나타_디_엣지_Hybrid.png\n",
      "------------------------------------------------------------\n",
      "This car features a sleek, modern sedan body type with a balanced proportion. The surface is smooth with subtle curves, enhancing aerodynamics. The lighting includes sharp, angular LED headlights and taillights. The grill is narrow and integrated, contributing to a cohesive front fascia. It has stylish, multi-spoke alloy wheels. The color is a metallic silver, giving it a contemporary look. Unique elements include the sculpted side panels and a distinctive rear spoiler, adding a futuristic touch.\n",
      "------------------------------------------------------------\n"
     ]
    },
    {
     "name": "stderr",
     "output_type": "stream",
     "text": [
      "Setting `pad_token_id` to `eos_token_id`:151645 for open-end generation.\n"
     ]
    },
    {
     "name": "stdout",
     "output_type": "stream",
     "text": [
      "\n",
      "✅ [43] 6_아이오닉_6.png\n",
      "------------------------------------------------------------\n",
      "This car features a sleek, modern sedan body type with a low and wide stance, emphasizing sportiness and aerodynamics. The proportions are balanced, with a smooth, flowing surface that enhances its dynamic appearance. The lighting is sharp and integrated, likely featuring LED technology for a contemporary look. The grill is narrow and horizontal, contributing to a streamlined front fascia. The wheels are large with a multi-spoke alloy design, adding to the vehicle's sporty aesthetic. The color is a metallic silver, giving it a sophisticated and futuristic vibe. Unique elements include the smooth, uninterrupted lines and a subtle rear spoiler, adding to its modern and aerodynamic profile.\n",
      "------------------------------------------------------------\n"
     ]
    },
    {
     "name": "stderr",
     "output_type": "stream",
     "text": [
      "Setting `pad_token_id` to `eos_token_id`:151645 for open-end generation.\n"
     ]
    },
    {
     "name": "stdout",
     "output_type": "stream",
     "text": [
      "\n",
      "✅ [44] 6_일렉시티.png\n",
      "------------------------------------------------------------\n",
      "This bus features a modern, elongated body type with a low and wide proportion, emphasizing stability and aerodynamics. The surface is smooth with large, uninterrupted glass windows for enhanced visibility and a sleek appearance. The lighting includes integrated, horizontal LED strips for a contemporary look. The grill is minimalistic and streamlined, blending into the front design. It has large, alloy wheels that contribute to its modern aesthetic. The color scheme is primarily white with black accents, giving it a clean and professional appearance. Unique elements include the \"ELECITY\" branding and a futuristic, curved roofline, suggesting advanced technology and eco-friendliness.\n",
      "------------------------------------------------------------\n"
     ]
    },
    {
     "name": "stderr",
     "output_type": "stream",
     "text": [
      "Setting `pad_token_id` to `eos_token_id`:151645 for open-end generation.\n"
     ]
    },
    {
     "name": "stdout",
     "output_type": "stream",
     "text": [
      "\n",
      "✅ [45] 6_투싼.png\n",
      "------------------------------------------------------------\n",
      "This car features a modern SUV body type with sleek, balanced proportions. The surface has sharp, angular lines and smooth curves, creating a dynamic look. The lighting includes narrow, LED accents that enhance its contemporary feel. The grill is narrow and horizontal, contributing to a streamlined front fascia. It has stylish, multi-spoke alloy wheels. The color is a matte gray, giving it a sophisticated appearance. Unique elements include the sculpted side panels and a futuristic rear light design.\n",
      "------------------------------------------------------------\n"
     ]
    },
    {
     "name": "stderr",
     "output_type": "stream",
     "text": [
      "Setting `pad_token_id` to `eos_token_id`:151645 for open-end generation.\n"
     ]
    },
    {
     "name": "stdout",
     "output_type": "stream",
     "text": [
      "\n",
      "✅ [46] 6_포터_II_특장차.png\n",
      "------------------------------------------------------------\n",
      "This is a white commercial van with a boxy, utilitarian body type. The proportions are balanced, with a large cargo area and compact cab. The surface is smooth with minimal detailing. It features integrated lighting on the front. The grill is simple and understated. The wheels are standard, utilitarian designs. The color is a clean, bright white. Unique elements include the large sliding door on the cargo side, enhancing functionality.\n",
      "------------------------------------------------------------\n"
     ]
    },
    {
     "name": "stderr",
     "output_type": "stream",
     "text": [
      "Setting `pad_token_id` to `eos_token_id`:151645 for open-end generation.\n"
     ]
    },
    {
     "name": "stdout",
     "output_type": "stream",
     "text": [
      "\n",
      "✅ [47] 7_스타리아_라운지_캠퍼_Hybrid.png\n",
      "------------------------------------------------------------\n",
      "This car features a modern minivan body type with a sleek, elongated proportions. The surface is smooth with tinted windows, giving it a sophisticated look. It has subtle lighting integrated into the body. The grill is understated, blending with the front design. The wheels are stylish and multi-spoked. The color is a glossy black, enhancing its premium feel. Unique elements include the roof spoiler and aerodynamic lines, adding a futuristic touch.\n",
      "------------------------------------------------------------\n"
     ]
    },
    {
     "name": "stderr",
     "output_type": "stream",
     "text": [
      "Setting `pad_token_id` to `eos_token_id`:151645 for open-end generation.\n"
     ]
    },
    {
     "name": "stdout",
     "output_type": "stream",
     "text": [
      "\n",
      "✅ [48] 7_일렉시티_수소전기버스.png\n",
      "------------------------------------------------------------\n",
      "This bus features a modern articulated body design with a sleek, elongated proportion. The surface is smooth with large windows for visibility. It has a minimalist lighting setup with integrated headlights and LED strips. The grill is narrow and streamlined, enhancing aerodynamics. The wheels are robust and alloy-finished. The color scheme is predominantly white with blue accents. Unique elements include the electric branding and a futuristic front-mounted charging port.\n",
      "------------------------------------------------------------\n"
     ]
    },
    {
     "name": "stderr",
     "output_type": "stream",
     "text": [
      "Setting `pad_token_id` to `eos_token_id`:151645 for open-end generation.\n"
     ]
    },
    {
     "name": "stdout",
     "output_type": "stream",
     "text": [
      "\n",
      "✅ [49] 7_투싼_Hybrid.png\n",
      "------------------------------------------------------------\n",
      "This car features a modern SUV body type with sleek, balanced proportions. The surface design includes sharp, angular lines and smooth curves, creating a dynamic appearance. The lighting is contemporary, with narrow, LED accents on the taillights. The grill is bold and horizontal, adding to the aggressive front fascia. It has stylish, multi-spoke alloy wheels. The color is a metallic silver, giving it a sophisticated look. Unique elements include the sculpted side panels and a slightly elevated roofline, contributing to a futuristic aesthetic.\n",
      "------------------------------------------------------------\n"
     ]
    },
    {
     "name": "stderr",
     "output_type": "stream",
     "text": [
      "Setting `pad_token_id` to `eos_token_id`:151645 for open-end generation.\n"
     ]
    },
    {
     "name": "stdout",
     "output_type": "stream",
     "text": [
      "\n",
      "✅ [50] 7_포터_II_Electric.png\n",
      "------------------------------------------------------------\n",
      "This is a white utility truck with a compact cab and a long, open cargo bed. The proportions are balanced, with a short hood and a boxy cabin. The surface is smooth with minimal detailing. The lighting consists of simple, integrated headlights. The grill is narrow and horizontal. It features alloy wheels and a functional design. There are no unique or futuristic elements; it has a practical, utilitarian appearance.\n",
      "------------------------------------------------------------\n"
     ]
    },
    {
     "name": "stderr",
     "output_type": "stream",
     "text": [
      "Setting `pad_token_id` to `eos_token_id`:151645 for open-end generation.\n"
     ]
    },
    {
     "name": "stdout",
     "output_type": "stream",
     "text": [
      "\n",
      "✅ [51] 8_스타리아_라운지_리무진.png\n",
      "------------------------------------------------------------\n",
      "This car features a modern minivan body type with a sleek, elongated proportions. The surface is smooth with tinted windows, giving it a sophisticated look. It has subtle lighting integrated into the body. The grill is understated, blending with the front design. The wheels are stylish and alloy-finished. The color is a glossy black, enhancing its premium feel. Unique elements include the streamlined side profile and potential futuristic LED accents.\n",
      "------------------------------------------------------------\n"
     ]
    },
    {
     "name": "stderr",
     "output_type": "stream",
     "text": [
      "Setting `pad_token_id` to `eos_token_id`:151645 for open-end generation.\n"
     ]
    },
    {
     "name": "stdout",
     "output_type": "stream",
     "text": [
      "\n",
      "✅ [52] 8_싼타페.png\n",
      "------------------------------------------------------------\n",
      "This SUV features a modern, boxy body type with a balanced proportion. The surface is smooth with subtle curves. It has sleek, integrated lighting and a prominent, horizontal grill. The wheels are large with a multi-spoke alloy design. The color is a muted, earthy tone. Unique elements include roof rails and a slightly elevated stance, adding a touch of futurism.\n",
      "------------------------------------------------------------\n"
     ]
    },
    {
     "name": "stderr",
     "output_type": "stream",
     "text": [
      "Setting `pad_token_id` to `eos_token_id`:151645 for open-end generation.\n"
     ]
    },
    {
     "name": "stdout",
     "output_type": "stream",
     "text": [
      "\n",
      "✅ [53] 8_일렉시티_이층버스.png\n",
      "------------------------------------------------------------\n",
      "This is a double-decker bus design featuring a sleek, elongated body with a high roof to accommodate two levels of seating. The proportions are balanced, with a wide front section tapering slightly towards the rear. The surface is smooth with large, reflective windows covering most of the side panels. The lighting includes modern, integrated headlights and LED strips along the lower edges. The grill is narrow and horizontal, blending with the front design. The wheels are large and streamlined, fitting the bus's scale. The color is a metallic silver, giving it a contemporary look. Unique elements include the extended side mirrors and the aerodynamic front fascia, adding a futuristic touch.\n",
      "------------------------------------------------------------\n"
     ]
    },
    {
     "name": "stderr",
     "output_type": "stream",
     "text": [
      "Setting `pad_token_id` to `eos_token_id`:151645 for open-end generation.\n"
     ]
    },
    {
     "name": "stdout",
     "output_type": "stream",
     "text": [
      "\n",
      "✅ [54] 8_포터_II_Electric_특장차.png\n",
      "------------------------------------------------------------\n",
      "This is a commercial van design featuring a boxy, utilitarian body type with a high cargo volume. The proportions are balanced, emphasizing functionality. The surface is smooth with minimal detailing. It has integrated, understated lighting. The grill is simple and narrow, focusing on aerodynamics. The wheels are standard, utilitarian, and compact. The color is a clean white, suggesting a professional or delivery use. Unique elements include the streamlined cab and lack of ornate features, emphasizing practicality over aesthetics.\n",
      "------------------------------------------------------------\n"
     ]
    },
    {
     "name": "stderr",
     "output_type": "stream",
     "text": [
      "Setting `pad_token_id` to `eos_token_id`:151645 for open-end generation.\n"
     ]
    },
    {
     "name": "stdout",
     "output_type": "stream",
     "text": [
      "\n",
      "✅ [55] 9_2026_캐스퍼_일렉트릭.png\n",
      "------------------------------------------------------------\n",
      "This SUV features a modern, compact body type with balanced proportions. The design includes smooth, flowing surfaces and sleek, integrated lighting. The grill is prominent and horizontally oriented, complementing the contemporary aesthetic. It has stylish alloy wheels and a neutral color palette. Unique elements include subtle angular lines and a slightly elevated stance, giving it a futuristic yet practical look.\n",
      "------------------------------------------------------------\n"
     ]
    },
    {
     "name": "stderr",
     "output_type": "stream",
     "text": [
      "Setting `pad_token_id` to `eos_token_id`:151645 for open-end generation.\n"
     ]
    },
    {
     "name": "stdout",
     "output_type": "stream",
     "text": [
      "\n",
      "✅ [56] 9_스타리아_라운지_리무진_Hybrid.png\n",
      "------------------------------------------------------------\n",
      "This car features a modern minivan body type with a sleek, elongated proportions. The surface is smooth with tinted windows, giving it a sophisticated look. It has subtle lighting integrated into the body. The grill is understated, blending with the front design. The wheels are stylish and alloy-finished. The color is a glossy black, enhancing its premium feel. Unique elements include the streamlined side profile and potential futuristic LED accents.\n",
      "------------------------------------------------------------\n"
     ]
    },
    {
     "name": "stderr",
     "output_type": "stream",
     "text": [
      "Setting `pad_token_id` to `eos_token_id`:151645 for open-end generation.\n"
     ]
    },
    {
     "name": "stdout",
     "output_type": "stream",
     "text": [
      "\n",
      "✅ [57] 9_싼타페_Hybrid.png\n",
      "------------------------------------------------------------\n",
      "This SUV features a modern, boxy body type with a balanced proportion. The surface is smooth with subtle lines for aerodynamics. The lighting includes sleek, integrated headlights and taillights. The grill is prominent and horizontal, adding to the bold front fascia. The wheels are large with a multi-spoke alloy design. The color is a neutral silver-gray. Unique elements include the roof rails and a slightly elevated stance, giving it a rugged yet contemporary look.\n",
      "------------------------------------------------------------\n",
      "\n",
      "✅ [58] 9_유니버스.png\n",
      "------------------------------------------------------------\n",
      "This bus features a modern, elongated body type with a streamlined, aerodynamic design. The proportions are balanced, with a long, low profile. The surface is smooth with minimal panel lines, enhancing its sleek appearance. Large, tinted windows run along the side, providing ample visibility. The lighting includes integrated, angular headlights and LED strips. The grill is narrow and horizontal, blending with the front design. It has multi-spoke alloy wheels, adding to its contemporary look. The color is predominantly white, giving it a clean and professional appearance. Unique elements include the futuristic, curved front and advanced lighting design.\n",
      "------------------------------------------------------------\n",
      "✅ 모든 결과가 'car_descriptions.json'에 저장되었습니다.\n"
     ]
    }
   ],
   "source": [
    "import json\n",
    "image_folder = \"./car_images\"\n",
    "output_json_file = \"car_descriptions.json\"\n",
    "prompt = (\n",
    "   \"As an automotive designer, briefly and precisely summarize this car's design: body type, proportions, surface, lighting, grill, wheels, color, unique/futuristic elements.\"\n",
    ")\n",
    "\n",
    "results = []\n",
    "\n",
    "for idx, img_file in enumerate(sorted(os.listdir(image_folder))):\n",
    "    if not img_file.lower().endswith((\".png\", \".jpg\", \".jpeg\", \".webp\")):\n",
    "        continue\n",
    "\n",
    "    img_path = os.path.join(image_folder, img_file)\n",
    "    messages = [[\n",
    "        {\n",
    "            \"role\": \"user\",\n",
    "            \"content\": [\n",
    "                {\"type\": \"image\", \"path\": img_path},\n",
    "                {\"type\": \"text\", \"text\": prompt},\n",
    "            ],\n",
    "        }\n",
    "    ]]\n",
    "\n",
    "    try:\n",
    "        # processor로 inputs 생성 (float16로 맞춤)\n",
    "        inputs = processor.apply_chat_template(\n",
    "            messages,\n",
    "            padding=True,\n",
    "            add_generation_prompt=True,\n",
    "            tokenize=True,\n",
    "            return_dict=True,\n",
    "            return_tensors=\"pt\"\n",
    "        ).to(device, dtype=torch.float16)\n",
    "\n",
    "        # no_grad로 gradient 계산 끔 (추론용 메모리 절약)\n",
    "        with torch.no_grad():\n",
    "            output = model.generate(**inputs, max_new_tokens=300)\n",
    "\n",
    "        # 결과 디코딩\n",
    "        decoded_outputs = processor.batch_decode(output, skip_special_tokens=True)\n",
    "        description = decoded_outputs[0]\n",
    "\n",
    "        # assistant 부분만 저장\n",
    "        if \"assistant\" in description:\n",
    "            description_clean = description.split(\"assistant\", 1)[-1].strip()\n",
    "        else:\n",
    "            description_clean = description.strip()\n",
    "\n",
    "\n",
    "        #  output 확인\n",
    "        print(f\"\\n✅ [{idx + 1}] {img_file}\")\n",
    "        print(f\"{'-'*60}\")\n",
    "        print(description_clean)\n",
    "        print(f\"{'-'*60}\")\n",
    "        \n",
    "        results.append({\n",
    "            \"image\": img_file,\n",
    "            \"description\": description_clean\n",
    "        })\n",
    "\n",
    "\n",
    "    except Exception as e:\n",
    "        print(f\"⚠️ [{idx + 1}] {img_file} 처리 중 오류: {e}\")\n",
    "\n",
    "    # 메모리 비우기 (PyTorch + Python GC)\n",
    "    del inputs, output, decoded_outputs\n",
    "    torch.cuda.empty_cache()\n",
    "    gc.collect()\n",
    "\n",
    "# 모든 결과를 JSON 파일로 저장\n",
    "with open(output_json_file, \"w\", encoding=\"utf-8\") as f:\n",
    "    json.dump(results, f, ensure_ascii=False, indent=2)\n",
    "\n",
    "print(f\"✅ 모든 결과가 '{output_json_file}'에 저장되었습니다.\")\n"
   ]
  },
  {
   "cell_type": "code",
   "execution_count": null,
   "id": "692872e8-d41f-4631-bb35-5174d10a1181",
   "metadata": {},
   "outputs": [],
   "source": []
  }
 ],
 "metadata": {
  "kernelspec": {
   "display_name": "Python 3 (ipykernel)",
   "language": "python",
   "name": "python3"
  },
  "language_info": {
   "codemirror_mode": {
    "name": "ipython",
    "version": 3
   },
   "file_extension": ".py",
   "mimetype": "text/x-python",
   "name": "python",
   "nbconvert_exporter": "python",
   "pygments_lexer": "ipython3",
   "version": "3.11.11"
  }
 },
 "nbformat": 4,
 "nbformat_minor": 5
}
