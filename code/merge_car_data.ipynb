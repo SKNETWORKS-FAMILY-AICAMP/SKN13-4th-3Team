{
 "cells": [
  {
   "cell_type": "code",
   "execution_count": 1,
   "id": "74840371",
   "metadata": {},
   "outputs": [
    {
     "name": "stdout",
     "output_type": "stream",
     "text": [
      "✅ hyundaicar_descript_all.json 저장 완료\n"
     ]
    }
   ],
   "source": [
    "import json\n",
    "\n",
    "# JSON 파일 로드\n",
    "with open('hyundai_car_data_imgpath.json', 'r', encoding='utf-8') as f:\n",
    "    car_data = json.load(f)\n",
    "\n",
    "with open('car_descriptions.json', 'r', encoding='utf-8') as f:\n",
    "    descriptions = json.load(f)\n",
    "\n",
    "# description dict 생성 (car_name 기준)\n",
    "desc_dict = {}\n",
    "for d in descriptions:\n",
    "    image_name = d['image']\n",
    "    \n",
    "    car_name = '_'.join(image_name.split('_')[1:]).replace('.png', '')\n",
    "    desc_dict[car_name] = d['description']\n",
    "\n",
    "# 최종 데이터 합치기\n",
    "merged_data = []\n",
    "for car in car_data:\n",
    "    name = car['car_name']\n",
    "    description = desc_dict.get(name)\n",
    "    if description:\n",
    "        merged_data.append({\n",
    "            \"category\": car['category'],\n",
    "            \"car_name\": name,\n",
    "            \"image_path\": car['image_path'],\n",
    "            \"description\": description\n",
    "        })\n",
    "    else:\n",
    "        print(f\"⚠️ {name} 설명 없음, 건너뜀\")\n",
    "\n",
    "# JSON으로 저장\n",
    "with open('hyundaicar_descript_all.json', 'w', encoding='utf-8') as f:\n",
    "    json.dump(merged_data, f, ensure_ascii=False, indent=2)\n",
    "\n",
    "print(\"✅ hyundaicar_descript_all.json 저장 완료\")"
   ]
  },
  {
   "cell_type": "code",
   "execution_count": 3,
   "id": "1290d4a1",
   "metadata": {},
   "outputs": [
    {
     "name": "stdout",
     "output_type": "stream",
     "text": [
      "Collecting pandas\n",
      "  Using cached pandas-2.3.1-cp313-cp313-win_amd64.whl.metadata (19 kB)\n",
      "Requirement already satisfied: numpy>=1.26.0 in c:\\users\\playdata\\appdata\\local\\miniconda3\\envs\\babsim\\lib\\site-packages (from pandas) (2.3.1)\n",
      "Requirement already satisfied: python-dateutil>=2.8.2 in c:\\users\\playdata\\appdata\\local\\miniconda3\\envs\\babsim\\lib\\site-packages (from pandas) (2.9.0.post0)\n",
      "Collecting pytz>=2020.1 (from pandas)\n",
      "  Using cached pytz-2025.2-py2.py3-none-any.whl.metadata (22 kB)\n",
      "Collecting tzdata>=2022.7 (from pandas)\n",
      "  Using cached tzdata-2025.2-py2.py3-none-any.whl.metadata (1.4 kB)\n",
      "Requirement already satisfied: six>=1.5 in c:\\users\\playdata\\appdata\\local\\miniconda3\\envs\\babsim\\lib\\site-packages (from python-dateutil>=2.8.2->pandas) (1.17.0)\n",
      "Using cached pandas-2.3.1-cp313-cp313-win_amd64.whl (11.0 MB)\n",
      "Using cached pytz-2025.2-py2.py3-none-any.whl (509 kB)\n",
      "Using cached tzdata-2025.2-py2.py3-none-any.whl (347 kB)\n",
      "Installing collected packages: pytz, tzdata, pandas\n",
      "\n",
      "   ---------------------------------------- 0/3 [pytz]\n",
      "   ------------- -------------------------- 1/3 [tzdata]\n",
      "   -------------------------- ------------- 2/3 [pandas]\n",
      "   -------------------------- ------------- 2/3 [pandas]\n",
      "   -------------------------- ------------- 2/3 [pandas]\n",
      "   -------------------------- ------------- 2/3 [pandas]\n",
      "   -------------------------- ------------- 2/3 [pandas]\n",
      "   -------------------------- ------------- 2/3 [pandas]\n",
      "   -------------------------- ------------- 2/3 [pandas]\n",
      "   -------------------------- ------------- 2/3 [pandas]\n",
      "   -------------------------- ------------- 2/3 [pandas]\n",
      "   -------------------------- ------------- 2/3 [pandas]\n",
      "   -------------------------- ------------- 2/3 [pandas]\n",
      "   -------------------------- ------------- 2/3 [pandas]\n",
      "   -------------------------- ------------- 2/3 [pandas]\n",
      "   -------------------------- ------------- 2/3 [pandas]\n",
      "   -------------------------- ------------- 2/3 [pandas]\n",
      "   -------------------------- ------------- 2/3 [pandas]\n",
      "   -------------------------- ------------- 2/3 [pandas]\n",
      "   -------------------------- ------------- 2/3 [pandas]\n",
      "   -------------------------- ------------- 2/3 [pandas]\n",
      "   -------------------------- ------------- 2/3 [pandas]\n",
      "   -------------------------- ------------- 2/3 [pandas]\n",
      "   -------------------------- ------------- 2/3 [pandas]\n",
      "   -------------------------- ------------- 2/3 [pandas]\n",
      "   -------------------------- ------------- 2/3 [pandas]\n",
      "   -------------------------- ------------- 2/3 [pandas]\n",
      "   -------------------------- ------------- 2/3 [pandas]\n",
      "   -------------------------- ------------- 2/3 [pandas]\n",
      "   -------------------------- ------------- 2/3 [pandas]\n",
      "   -------------------------- ------------- 2/3 [pandas]\n",
      "   -------------------------- ------------- 2/3 [pandas]\n",
      "   -------------------------- ------------- 2/3 [pandas]\n",
      "   -------------------------- ------------- 2/3 [pandas]\n",
      "   ---------------------------------------- 3/3 [pandas]\n",
      "\n",
      "Successfully installed pandas-2.3.1 pytz-2025.2 tzdata-2025.2\n",
      "Note: you may need to restart the kernel to use updated packages.\n"
     ]
    }
   ],
   "source": [
    "%pip install pandas"
   ]
  },
  {
   "cell_type": "code",
   "execution_count": 4,
   "id": "9988266e",
   "metadata": {},
   "outputs": [
    {
     "name": "stdout",
     "output_type": "stream",
     "text": [
      "✅ CSV 저장 완료: hyundaicar_descript_all.csv\n"
     ]
    }
   ],
   "source": [
    "import json\n",
    "import pandas as pd\n",
    "\n",
    "def json_to_csv(json_file, csv_file=None):\n",
    "    # JSON 파일 읽기\n",
    "    with open(json_file, 'r', encoding='utf-8') as f:\n",
    "        data = json.load(f)\n",
    "    \n",
    "    # pandas DataFrame으로 변환\n",
    "    df = pd.DataFrame(data)\n",
    "    \n",
    "    # 저장 파일 이름 지정\n",
    "    if csv_file is None:\n",
    "        csv_file = json_file.replace('.json', '.csv')\n",
    "    \n",
    "    # CSV로 저장\n",
    "    df.to_csv(csv_file, index=False, encoding='utf-8-sig')\n",
    "    print(f\"✅ CSV 저장 완료: {csv_file}\")\n",
    "\n",
    "# 사용 예:\n",
    "json_to_csv('hyundaicar_descript_all.json')"
   ]
  }
 ],
 "metadata": {
  "kernelspec": {
   "display_name": "babsim",
   "language": "python",
   "name": "python3"
  },
  "language_info": {
   "codemirror_mode": {
    "name": "ipython",
    "version": 3
   },
   "file_extension": ".py",
   "mimetype": "text/x-python",
   "name": "python",
   "nbconvert_exporter": "python",
   "pygments_lexer": "ipython3",
   "version": "3.13.5"
  }
 },
 "nbformat": 4,
 "nbformat_minor": 5
}
